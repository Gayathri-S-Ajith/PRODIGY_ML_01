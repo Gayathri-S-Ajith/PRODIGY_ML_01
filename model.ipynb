{
  "cells": [
    {
      "cell_type": "markdown",
      "metadata": {
        "id": "view-in-github",
        "colab_type": "text"
      },
      "source": [
        "<a href=\"https://colab.research.google.com/github/Gayathri-S-Ajith/PRODIGY_ML_01/blob/main/model.ipynb\" target=\"_parent\"><img src=\"https://colab.research.google.com/assets/colab-badge.svg\" alt=\"Open In Colab\"/></a>"
      ]
    },
    {
      "cell_type": "code",
      "source": [
        "import pandas as pd\n",
        "import numpy as np\n",
        "import matplotlib.pyplot as plt\n",
        "from sklearn.model_selection import train_test_split\n",
        "from sklearn.linear_model import Ridge\n",
        "from sklearn.preprocessing import StandardScaler\n",
        "from sklearn.impute import SimpleImputer  # Import SimpleImputer\n",
        "from sklearn.metrics import mean_squared_error\n",
        "from scipy.stats import skew\n",
        "\n",
        "# Read data\n",
        "train = pd.read_csv('/train (1).csv')\n",
        "test = pd.read_csv('/test.csv')\n",
        "\n",
        "# Define columns to keep\n",
        "columns_to_keep = ['LotArea', 'BedroomAbvGr','BsmtFullBath', 'BsmtHalfBath', 'HalfBath', 'TotalBsmtSF',  'FullBath', 'SalePrice']\n",
        "\n",
        "# Filter train and test datasets to keep only required columns\n",
        "train = train[columns_to_keep]\n",
        "test = test[['LotArea', 'BedroomAbvGr','BsmtFullBath', 'BsmtHalfBath', 'HalfBath', 'TotalBsmtSF',  'FullBath']]  # No SalePrice column in the test dataset\n",
        "\n",
        "# Log transform the target variable\n",
        "train['SalePrice'] = np.log1p(train['SalePrice'])# avoid potential errors when dealing with data that includes zero or negative values\n",
        "new_skewness = skew(train['SalePrice'])\n",
        "\n",
        "print(\"Skewness after logarithmic transformation:\", new_skewness)\n",
        "\n",
        "# Split data into features and target\n",
        "X = train.drop('SalePrice', axis=1)\n",
        "y = train['SalePrice']\n",
        "\n",
        "# Split data into training and testing sets\n",
        "X_train, X_test, y_train, y_test = train_test_split(X, y, random_state=42, test_size=.33)\n",
        "\n",
        "# Feature scaling\n",
        "scaler = StandardScaler()\n",
        "X_train_scaled = scaler.fit_transform(X_train)\n",
        "X_test_scaled = scaler.transform(X_test)\n",
        "\n",
        "# Impute missing values in test data\n",
        "imputer = SimpleImputer(strategy='mean')\n",
        "X_test_scaled = imputer.fit_transform(X_test_scaled)\n",
        "\n",
        "# Train Ridge regression model\n",
        "ridge = Ridge(alpha=1.0)  # You can tune alpha\n",
        "ridge.fit(X_train_scaled, y_train)\n",
        "\n",
        "# Make predictions\n",
        "predictions = ridge.predict(X_test_scaled)\n",
        "\n",
        "# Calculate Mean Squared Error\n",
        "mse = mean_squared_error(y_test, predictions)\n",
        "print(\"Mean Squared Error:\", mse)\n",
        "\n",
        "# Plot actual vs. predicted values\n",
        "plt.scatter(np.expm1(y_test), np.expm1(predictions))\n",
        "plt.xlabel('Actual Sale Price')\n",
        "plt.ylabel('Predicted Sale Price')\n",
        "plt.title('Actual vs. Predicted Sale Price')\n",
        "plt.show()\n",
        "\n",
        "# Impute missing values in test data for final prediction\n",
        "test_scaled = scaler.transform(test)\n",
        "test_scaled = imputer.transform(test_scaled)\n",
        "\n",
        "# Predict SalePrice for test data\n",
        "test_predictions = ridge.predict(test_scaled)\n",
        "\n",
        "# Convert SalePrice predictions back to original scale\n",
        "predicted_sale_price = np.expm1(test_predictions)\n",
        "\n",
        "# Plot LotArea vs. Predicted Sale Price\n",
        "plt.scatter(test['LotArea'], predicted_sale_price)\n",
        "plt.xlabel('Lot Area')\n",
        "plt.ylabel('Predicted Sale Price')\n",
        "plt.title('Lot Area vs. Predicted Sale Price')\n",
        "plt.show()\n"
      ],
      "metadata": {
        "id": "kN0fMlBepWpm"
      },
      "execution_count": null,
      "outputs": []
    }
  ],
  "metadata": {
    "colab": {
      "provenance": [],
      "authorship_tag": "ABX9TyOCqU89Bmfs7tapU/W22P0X",
      "include_colab_link": true
    },
    "kernelspec": {
      "display_name": "Python 3",
      "name": "python3"
    },
    "language_info": {
      "name": "python"
    }
  },
  "nbformat": 4,
  "nbformat_minor": 0
}